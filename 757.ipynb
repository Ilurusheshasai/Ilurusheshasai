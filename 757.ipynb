{
  "nbformat": 4,
  "nbformat_minor": 0,
  "metadata": {
    "colab": {
      "provenance": [],
      "mount_file_id": "13Q2WOQlP_dfHsmptyd-nStOsgz6987Gk",
      "authorship_tag": "ABX9TyMsHPDL7L0ek1kNX+5IT3wu",
      "include_colab_link": true
    },
    "kernelspec": {
      "name": "python3",
      "display_name": "Python 3"
    },
    "language_info": {
      "name": "python"
    },
    "accelerator": "GPU",
    "gpuClass": "standard"
  },
  "cells": [
    {
      "cell_type": "markdown",
      "metadata": {
        "id": "view-in-github",
        "colab_type": "text"
      },
      "source": [
        "<a href=\"https://colab.research.google.com/github/Ilurusheshasai/Ilurusheshasai/blob/main/757.ipynb\" target=\"_parent\"><img src=\"https://colab.research.google.com/assets/colab-badge.svg\" alt=\"Open In Colab\"/></a>"
      ]
    },
    {
      "cell_type": "code",
      "execution_count": null,
      "metadata": {
        "id": "xyC-O476BtfL",
        "colab": {
          "base_uri": "https://localhost:8080/"
        },
        "outputId": "b36e0a98-f7cf-47d2-d363-55fb75c6096c"
      },
      "outputs": [
        {
          "output_type": "stream",
          "name": "stdout",
          "text": [
            "find: ‘/proc/52/task/52/net’: Invalid argument\n",
            "find: ‘/proc/52/net’: Invalid argument\n",
            "find: ‘/proc/578/task/578/net’: Invalid argument\n",
            "find: ‘/proc/578/net’: Invalid argument\n",
            "/content/drive/MyDrive/train.zip\n",
            "^C\n"
          ]
        }
      ],
      "source": [
        "!find / -name \"train.zip\" -type f"
      ]
    },
    {
      "cell_type": "code",
      "source": [
        "from google.colab import drive\n",
        "drive.flush_and_unmount()\n",
        "drive.mount('/content/drive', force_remount=True)"
      ],
      "metadata": {
        "colab": {
          "base_uri": "https://localhost:8080/"
        },
        "id": "pTdu4ww7BzdN",
        "outputId": "6a047572-a692-4ce2-9e98-577f20430a9b"
      },
      "execution_count": null,
      "outputs": [
        {
          "output_type": "stream",
          "name": "stdout",
          "text": [
            "Mounted at /content/drive\n"
          ]
        }
      ]
    },
    {
      "cell_type": "code",
      "source": [
        "from tensorflow.keras.preprocessing.image import ImageDataGenerator\n",
        "train_datagen = ImageDataGenerator(\n",
        "    rescale=1./255,\n",
        "    rotation_range=20,\n",
        "    zoom_range=0.15,\n",
        "    width_shift_range=0.2,\n",
        "    height_shift_range=0.2,\n",
        "    shear_range=0.15,\n",
        "    horizontal_flip=True,\n",
        "    fill_mode='nearest')"
      ],
      "metadata": {
        "id": "i1LB-uWtWHFn"
      },
      "execution_count": null,
      "outputs": []
    },
    {
      "cell_type": "code",
      "source": [
        "import tensorflow as tf\n",
        "\n",
        "# Create train, validation, and test datasets from a zip file\n",
        "train_dataset = tf.keras.preprocessing.image_dataset_from_directory('/content/drive/MyDrive/train',\n",
        "    batch_size=32,\n",
        "    validation_split=0.3,  # Use 70% of the data for training\n",
        "    subset='training',\n",
        "    seed=123\n",
        ")\n"
      ],
      "metadata": {
        "id": "HP1OiPI0B_aj",
        "colab": {
          "base_uri": "https://localhost:8080/"
        },
        "outputId": "565ea092-9c35-4ff8-a84c-4eebe9de8b0d"
      },
      "execution_count": null,
      "outputs": [
        {
          "output_type": "stream",
          "name": "stdout",
          "text": [
            "Found 13841 files belonging to 200 classes.\n",
            "Using 9689 files for training.\n"
          ]
        }
      ]
    },
    {
      "cell_type": "code",
      "source": [
        "\n",
        "val_dataset = tf.keras.preprocessing.image_dataset_from_directory(\n",
        "    '/content/drive/MyDrive/train',\n",
        "    batch_size=32,\n",
        "    validation_split=0.3,  # Use 20% of the data for validation\n",
        "    subset='validation',\n",
        "    seed=123\n",
        ")\n",
        "\n"
      ],
      "metadata": {
        "id": "FI9PNH52CrlT",
        "colab": {
          "base_uri": "https://localhost:8080/"
        },
        "outputId": "a867e621-2951-4a6f-f1d5-731f1e421440"
      },
      "execution_count": null,
      "outputs": [
        {
          "output_type": "stream",
          "name": "stdout",
          "text": [
            "Found 13841 files belonging to 200 classes.\n",
            "Using 4152 files for validation.\n"
          ]
        }
      ]
    },
    {
      "cell_type": "code",
      "source": [
        "test_dataset = tf.keras.preprocessing.image_dataset_from_directory(\n",
        "    '/content/drive/MyDrive/train',\n",
        "    batch_size=32,\n",
        "    validation_split=0.3,  # Use 10% of the data for testing\n",
        "    subset='validation',\n",
        "    seed=456\n",
        ")\n",
        "\n"
      ],
      "metadata": {
        "id": "-gRQnliCCt0x",
        "colab": {
          "base_uri": "https://localhost:8080/"
        },
        "outputId": "292a8a77-2ab9-4473-a022-48aea24e2e2a"
      },
      "execution_count": null,
      "outputs": [
        {
          "output_type": "stream",
          "name": "stdout",
          "text": [
            "Found 13841 files belonging to 200 classes.\n",
            "Using 4152 files for validation.\n"
          ]
        }
      ]
    },
    {
      "cell_type": "code",
      "source": [
        "from tensorflow.keras import layers, models, optimizers, regularizers\n",
        "# Create a CNN model\n",
        "model = tf.keras.Sequential([\n",
        "    tf.keras.layers.experimental.preprocessing.Rescaling(1./255),\n",
        "    tf.keras.layers.Conv2D(16, 3, padding='same', activation='relu'),\n",
        "    tf.keras.layers.MaxPooling2D(),\n",
        "    tf.keras.layers.Dense(32, activation='relu'),\n",
        "    tf.keras.layers.Conv2D(64, 3, padding='same', activation='relu'),\n",
        "    tf.keras.layers.MaxPooling2D(),\n",
        "    tf.keras.layers.Dense(32, activation='relu'),\n",
        "    tf.keras.layers.Flatten(),\n",
        "    tf.keras.layers.Dense(128, activation='relu', kernel_regularizer=regularizers.l2(0.001)),\n",
        "    tf.keras.layers.Dropout(0.2),\n",
        "    tf.keras.layers.Dense(200,activation = 'softmax')\n",
        "])\n",
        "\n"
      ],
      "metadata": {
        "id": "86qvBZZXCvvm"
      },
      "execution_count": 46,
      "outputs": []
    },
    {
      "cell_type": "code",
      "source": [
        "from tensorflow.keras.callbacks import EarlyStopping\n",
        "# Compile the model\n",
        "model.compile(optimizer='adam',\n",
        "              loss=tf.keras.losses.SparseCategoricalCrossentropy(from_logits=True),\n",
        "              metrics=['accuracy'])\n",
        "early_stop = EarlyStopping(monitor='val_accuracy', patience=5)"
      ],
      "metadata": {
        "id": "4Venwg63Cxm1"
      },
      "execution_count": 47,
      "outputs": []
    },
    {
      "cell_type": "code",
      "source": [
        "\n",
        "# Train the model\n",
        "history = model.fit(train_dataset, epochs=25, validation_data=val_dataset, callbacks=[early_stop])\n"
      ],
      "metadata": {
        "id": "RXgeFUXDCzqn",
        "colab": {
          "base_uri": "https://localhost:8080/"
        },
        "outputId": "44e2e35d-f3dd-4e3b-9f0f-649839579f3d"
      },
      "execution_count": 48,
      "outputs": [
        {
          "output_type": "stream",
          "name": "stdout",
          "text": [
            "Epoch 1/25\n",
            "303/303 [==============================] - 38s 111ms/step - loss: 4.5109 - accuracy: 0.0321 - val_loss: 4.1856 - val_accuracy: 0.0617\n",
            "Epoch 2/25\n",
            "303/303 [==============================] - 33s 108ms/step - loss: 4.1859 - accuracy: 0.0575 - val_loss: 4.0729 - val_accuracy: 0.0862\n",
            "Epoch 3/25\n",
            "303/303 [==============================] - 34s 109ms/step - loss: 4.0818 - accuracy: 0.0745 - val_loss: 3.9797 - val_accuracy: 0.0942\n",
            "Epoch 4/25\n",
            "303/303 [==============================] - 34s 112ms/step - loss: 4.0018 - accuracy: 0.0910 - val_loss: 3.9768 - val_accuracy: 0.1089\n",
            "Epoch 5/25\n",
            "303/303 [==============================] - 33s 108ms/step - loss: 3.9505 - accuracy: 0.0997 - val_loss: 3.9348 - val_accuracy: 0.1171\n",
            "Epoch 6/25\n",
            "303/303 [==============================] - 33s 108ms/step - loss: 3.9072 - accuracy: 0.1170 - val_loss: 3.9953 - val_accuracy: 0.1166\n",
            "Epoch 7/25\n",
            "303/303 [==============================] - 33s 108ms/step - loss: 3.8576 - accuracy: 0.1318 - val_loss: 3.9773 - val_accuracy: 0.1228\n",
            "Epoch 8/25\n",
            "303/303 [==============================] - 34s 112ms/step - loss: 3.7746 - accuracy: 0.1562 - val_loss: 4.0995 - val_accuracy: 0.1267\n",
            "Epoch 9/25\n",
            "303/303 [==============================] - 33s 108ms/step - loss: 3.6433 - accuracy: 0.1902 - val_loss: 4.3763 - val_accuracy: 0.1202\n",
            "Epoch 10/25\n",
            "303/303 [==============================] - 34s 110ms/step - loss: 3.4716 - accuracy: 0.2482 - val_loss: 4.6826 - val_accuracy: 0.1040\n",
            "Epoch 11/25\n",
            "303/303 [==============================] - 35s 113ms/step - loss: 3.2135 - accuracy: 0.3142 - val_loss: 4.9680 - val_accuracy: 0.1024\n",
            "Epoch 12/25\n",
            "303/303 [==============================] - 36s 117ms/step - loss: 2.9634 - accuracy: 0.3889 - val_loss: 5.7696 - val_accuracy: 0.0980\n",
            "Epoch 13/25\n",
            "303/303 [==============================] - 36s 117ms/step - loss: 2.7145 - accuracy: 0.4565 - val_loss: 5.9595 - val_accuracy: 0.0987\n"
          ]
        }
      ]
    },
    {
      "cell_type": "code",
      "source": [
        "\n",
        "# Evaluate the model on the validation set\n",
        "loss, accuracy = model.evaluate(val_dataset)\n",
        "print(f'Validation accuracy: {accuracy:.2f}')\n",
        "\n",
        "# Evaluate the model on the test set\n",
        "loss, accuracy = model.evaluate(test_dataset)\n",
        "print(f'Test accuracy: {accuracy:.2f}')"
      ],
      "metadata": {
        "id": "wLbgbE6HC1B5",
        "colab": {
          "base_uri": "https://localhost:8080/"
        },
        "outputId": "625c1f5b-9ae5-4e33-9322-cbb9a4a2e029"
      },
      "execution_count": 49,
      "outputs": [
        {
          "output_type": "stream",
          "name": "stdout",
          "text": [
            "130/130 [==============================] - 9s 63ms/step - loss: 5.9595 - accuracy: 0.0987\n",
            "Validation accuracy: 0.10\n",
            "130/130 [==============================] - 10s 73ms/step - loss: 3.1828 - accuracy: 0.5267\n",
            "Test accuracy: 0.53\n"
          ]
        }
      ]
    }
  ]
}